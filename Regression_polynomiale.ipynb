{
  "nbformat": 4,
  "nbformat_minor": 0,
  "metadata": {
    "colab": {
      "name": "Regression_polynomiale.ipynb",
      "provenance": []
    },
    "kernelspec": {
      "name": "python3",
      "display_name": "Python 3"
    },
    "language_info": {
      "name": "python"
    }
  },
  "cells": [
    {
      "cell_type": "markdown",
      "metadata": {
        "id": "LLuCEpfVbcsl"
      },
      "source": [
        "# Regression Polynomiale"
      ]
    },
    {
      "cell_type": "markdown",
      "metadata": {
        "id": "BxcoZyCDbkWC"
      },
      "source": [
        "## Etape 1 : Chargement des Bibliothèques"
      ]
    },
    {
      "cell_type": "code",
      "metadata": {
        "id": "ROrK8CRObpvo"
      },
      "source": [
        "import numpy as np\n",
        "import pandas as pd\n",
        "import matplotlib.pyplot as plt"
      ],
      "execution_count": 1,
      "outputs": []
    },
    {
      "cell_type": "markdown",
      "metadata": {
        "id": "iUAR3UaUb1ZH"
      },
      "source": [
        "## Etape 2 : Chargement des données"
      ]
    },
    {
      "cell_type": "code",
      "metadata": {
        "id": "ZEazC-mab-Tu"
      },
      "source": [
        "dataset = pd.read_csv('Position_Salaries.csv')\n",
        "X = dataset.iloc[:, 1:-1].values\n",
        "Y = dataset.iloc[:, -1].values"
      ],
      "execution_count": 2,
      "outputs": []
    },
    {
      "cell_type": "markdown",
      "metadata": {
        "id": "Ghi9V2dcVc5U"
      },
      "source": [
        "## Etape 3 : Entrainer le modèle de regression linéaire sur tout le dataset"
      ]
    },
    {
      "cell_type": "code",
      "metadata": {
        "colab": {
          "base_uri": "https://localhost:8080/"
        },
        "id": "k_HDmebkVpvB",
        "outputId": "6fcf2e54-ddab-43db-d7ce-78bc65d5d469"
      },
      "source": [
        "from sklearn.linear_model import LinearRegression\n",
        "lin_reg = LinearRegression()\n",
        "lin_reg.fit(X, Y)"
      ],
      "execution_count": 3,
      "outputs": [
        {
          "output_type": "execute_result",
          "data": {
            "text/plain": [
              "LinearRegression(copy_X=True, fit_intercept=True, n_jobs=None, normalize=False)"
            ]
          },
          "metadata": {
            "tags": []
          },
          "execution_count": 3
        }
      ]
    },
    {
      "cell_type": "markdown",
      "metadata": {
        "id": "wr6UBWdsWEwo"
      },
      "source": [
        "## Etape 4 : Entrainer le modèle de regression polynomiale sur tout le dataset"
      ]
    },
    {
      "cell_type": "code",
      "metadata": {
        "colab": {
          "base_uri": "https://localhost:8080/"
        },
        "id": "8gfweZcKWPZ3",
        "outputId": "1538b07c-8a23-4657-a53f-02fbe6eccc27"
      },
      "source": [
        "from sklearn.preprocessing import PolynomialFeatures\n",
        "poly_reg = PolynomialFeatures(degree = 4)  # construction du modèle avec une puissance de 2\n",
        "# création d'un objet X_poly qui contient la transformation du vecteur X\n",
        "X_poly = poly_reg.fit_transform(X)\n",
        "lin_reg_2 = LinearRegression()\n",
        "lin_reg_2.fit(X_poly, Y)       # on applique la regression linéaire "
      ],
      "execution_count": 7,
      "outputs": [
        {
          "output_type": "execute_result",
          "data": {
            "text/plain": [
              "LinearRegression(copy_X=True, fit_intercept=True, n_jobs=None, normalize=False)"
            ]
          },
          "metadata": {
            "tags": []
          },
          "execution_count": 7
        }
      ]
    },
    {
      "cell_type": "markdown",
      "metadata": {
        "id": "MPxIGVOv2wG-"
      },
      "source": [
        "## Etape 5 : Visualisation des résultats du modèle linéaire"
      ]
    },
    {
      "cell_type": "code",
      "metadata": {
        "colab": {
          "base_uri": "https://localhost:8080/",
          "height": 295
        },
        "id": "EOrxwg2f2438",
        "outputId": "d1188a9d-6e6a-499b-f3f6-0d5e6464a348"
      },
      "source": [
        "plt.scatter(X, Y, color = 'red')\n",
        "plt.plot(X, lin_reg.predict(X), color = 'blue')\n",
        "plt.title(' Vrai ou Faux (Regression linéaire)')\n",
        "plt.xlabel('Position Level')\n",
        "plt.ylabel('Salary')\n",
        "plt.show()"
      ],
      "execution_count": 5,
      "outputs": [
        {
          "output_type": "display_data",
          "data": {
            "image/png": "[encoded data removed]",
            "text/plain": [
              "<Figure size 432x288 with 1 Axes>"
            ]
          },
          "metadata": {
            "tags": [],
            "needs_background": "light"
          }
        }
      ]
    },
    {
      "cell_type": "markdown",
      "metadata": {
        "id": "1jUE9W_2gDDu"
      },
      "source": [
        "## Etape 6 : Visualisation des résultats du modèle de regression polynomiale"
      ]
    },
    {
      "cell_type": "code",
      "metadata": {
        "colab": {
          "base_uri": "https://localhost:8080/",
          "height": 295
        },
        "id": "FG3JIdXOgNXP",
        "outputId": "f125fe9b-79a7-4865-e865-7c750071d1df"
      },
      "source": [
        "plt.scatter(X, Y, color = 'red')\n",
        "plt.plot(X, lin_reg_2.predict(X_poly), color = 'blue')\n",
        "plt.title(' Vrai ou Faux (Regression polynomiale)')\n",
        "plt.xlabel('Position Level')\n",
        "plt.ylabel('Salary')\n",
        "plt.show()"
      ],
      "execution_count": 8,
      "outputs": [
        {
          "output_type": "display_data",
          "data": {
            "image/png": "[encoded data removed]",
            "text/plain": [
              "<Figure size 432x288 with 1 Axes>"
            ]
          },
          "metadata": {
            "tags": [],
            "needs_background": "light"
          }
        }
      ]
    },
    {
      "cell_type": "markdown",
      "metadata": {
        "id": "9jSxXCJriyqW"
      },
      "source": [
        "## Etape 7 : Visualition des résultats de la regression polynomiale (Pour une meilleure résolution et une courbe plus lisse)"
      ]
    },
    {
      "cell_type": "code",
      "metadata": {
        "colab": {
          "base_uri": "https://localhost:8080/",
          "height": 295
        },
        "id": "4v9Y1Kg-jjmm",
        "outputId": "a77455fd-bb7d-42a5-cf28-4a4d6b6d13db"
      },
      "source": [
        "x_grid = np.arange(min(X), max(X), 0.1) # on crée un tableau avec un pas de 0.1\n",
        "x_grid = x_grid.reshape((len(x_grid), 1))\n",
        "plt.scatter(X, Y, color = 'red')\n",
        "plt.plot(x_grid, lin_reg_2.predict(poly_reg.fit_transform(x_grid)), color = 'blue')\n",
        "plt.title(' Vrai ou Faux (Regression polynomiale)')\n",
        "plt.xlabel('Position Level')\n",
        "plt.ylabel('Salary')\n",
        "plt.show()"
      ],
      "execution_count": 10,
      "outputs": [
        {
          "output_type": "display_data",
          "data": {
            "image/png": "[encoded data removed]",
            "text/plain": [
              "<Figure size 432x288 with 1 Axes>"
            ]
          },
          "metadata": {
            "tags": [],
            "needs_background": "light"
          }
        }
      ]
    },
    {
      "cell_type": "markdown",
      "metadata": {
        "id": "pz7XNepnmDVM"
      },
      "source": [
        "## Etape 8 : Prédire un nouveau résultat d'une seule observation avec la regression linéaire "
      ]
    },
    {
      "cell_type": "code",
      "metadata": {
        "colab": {
          "base_uri": "https://localhost:8080/"
        },
        "id": "e9mtlaxQmO7k",
        "outputId": "da9751ed-4c0f-4435-b03e-c51c093af745"
      },
      "source": [
        "lin_reg.predict([[6.5]])"
      ],
      "execution_count": 11,
      "outputs": [
        {
          "output_type": "execute_result",
          "data": {
            "text/plain": [
              "array([330378.78787879])"
            ]
          },
          "metadata": {
            "tags": []
          },
          "execution_count": 11
        }
      ]
    },
    {
      "cell_type": "markdown",
      "metadata": {
        "id": "LBw6dirfnm6r"
      },
      "source": [
        "## Etape 9 : Prédire un nouveau résultat d'une seule observation avec la regression polynomiale"
      ]
    },
    {
      "cell_type": "code",
      "metadata": {
        "colab": {
          "base_uri": "https://localhost:8080/"
        },
        "id": "m1BiAcionxOW",
        "outputId": "6972887e-a6dd-45de-d1e1-676db56339f9"
      },
      "source": [
        "lin_reg_2.predict(poly_reg.fit_transform([[6.5]]))"
      ],
      "execution_count": 13,
      "outputs": [
        {
          "output_type": "execute_result",
          "data": {
            "text/plain": [
              "array([158862.45265155])"
            ]
          },
          "metadata": {
            "tags": []
          },
          "execution_count": 13
        }
      ]
    }
  ]
}